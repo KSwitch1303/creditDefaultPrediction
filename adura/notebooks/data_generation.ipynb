{
 "cells": [
  {
   "cell_type": "code",
   "execution_count": null,
   "metadata": {},
   "outputs": [],
   "source": [
    "import numpy as np\n",
    "import pandas as pd\n",
    "\n",
    "np.random.seed(42)\n",
    "\n",
    "n_samples = 1000\n",
    "\n",
    "data = {\n",
    "    'Account Balance': np.random.uniform(0, 100000, n_samples),\n",
    "    'Transaction History': np.random.randint(0, 100, n_samples),\n",
    "    'Loan Repayment History': np.random.choice(['Yes', 'No'], n_samples),\n",
    "    'Credit Card Usage (%)': np.random.uniform(0, 100, n_samples),\n",
    "    'Number of Loans': np.random.randint(0, 5, n_samples),\n",
    "    'Income Level': np.random.uniform(20000, 200000, n_samples),\n",
    "    'Age': np.random.randint(18, 70, n_samples),\n",
    "    'Employment Status': np.random.choice(['Employed', 'Unemployed'], n_samples),\n",
    "    'Credit Worthiness': np.random.choice(['Good', 'Bad'], n_samples)\n",
    "}\n",
    "\n",
    "df = pd.DataFrame(data)\n",
    "df.to_csv('../data/synthetic_data.csv', index=False)\n"
   ]
  }
 ],
 "metadata": {
  "language_info": {
   "name": "python"
  }
 },
 "nbformat": 4,
 "nbformat_minor": 2
}
